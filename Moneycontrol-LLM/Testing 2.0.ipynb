{
 "cells": [
  {
   "cell_type": "code",
   "execution_count": 1,
   "id": "e4738491",
   "metadata": {},
   "outputs": [
    {
     "name": "stdout",
     "output_type": "stream",
     "text": [
      "Hello\n"
     ]
    }
   ],
   "source": [
    "print(\"Hello\")"
   ]
  },
  {
   "cell_type": "code",
   "execution_count": 1,
   "id": "82cf8b4a",
   "metadata": {},
   "outputs": [],
   "source": [
    "from stocks import Database_Management \n",
    "from langchain.text_splitter import CharacterTextSplitter\n",
    "from langchain_google_genai import ChatGoogleGenerativeAI\n",
    "from langchain_google_genai import GoogleGenerativeAIEmbeddings\n",
    "from langchain.chains.question_answering.chain import load_qa_chain\n",
    "from langchain_community.vectorstores import FAISS"
   ]
  },
  {
   "cell_type": "code",
   "execution_count": 2,
   "id": "6daf35f0",
   "metadata": {},
   "outputs": [],
   "source": [
    "class Para_Processing:\n",
    "\n",
    "    def __init__(self):\n",
    "        self.YOUR_API_KEY = \"YOUR_API_KEY\"\n",
    "        self.dm = Database_Management()\n",
    "        self.chunks=\"\"\n",
    "        self.embedding = GoogleGenerativeAIEmbeddings(model=\"models/embedding-001\", google_api_key=self.YOUR_API_KEY)\n",
    "        self.llm = ChatGoogleGenerativeAI(\n",
    "            model=\"gemini-2.0-flash\",\n",
    "            google_api_key=self.YOUR_API_KEY\n",
    "        )\n",
    "\n",
    "    def splitter_embedding(self):\n",
    "        text_splitter = CharacterTextSplitter(\n",
    "            separator = \" \",\n",
    "            chunk_size = 600,\n",
    "            chunk_overlap = 50,\n",
    "            length_function = len\n",
    "        )\n",
    "        print(\"Text_splitter Created\")\n",
    "\n",
    "        Query = input(\"Write any keyword you want to search about:\")\n",
    "        result = self.dm.select_data(Query)\n",
    "        info = \" \".join(res[0].strip(\" \") for res in result)\n",
    "        print(\"DataBase Searched\")\n",
    "\n",
    "        self.chunks = text_splitter.split_text(info)\n",
    "        print(\"Text Splitted\")\n",
    "\n",
    "        # embeddings = OpenAIEmbeddings()\n",
    "        # self.knowledge_base = FAISS.from_texts(chunks,embeddings)\n",
    "\n",
    "\n",
    "    def interaction(self):\n",
    "        \n",
    "        knowledge_base = FAISS.from_texts(self.chunks, self.embedding)\n",
    "        user_question = input(\"Type your question:\")\n",
    "        # user_question = \"What is Vingroup and how does it operate?\"\n",
    "        docs = knowledge_base.similarity_search(user_question)\n",
    "        chain = load_qa_chain(self.llm,chain_type=\"stuff\")\n",
    "        response = chain.invoke({\n",
    "            \"input_documents\": docs,\n",
    "            \"question\": user_question\n",
    "        })\n",
    "\n",
    "        print(response[\"output_text\"])\n"
   ]
  },
  {
   "cell_type": "code",
   "execution_count": null,
   "id": "7ce69dd7",
   "metadata": {},
   "outputs": [
    {
     "name": "stdout",
     "output_type": "stream",
     "text": [
      "Going into Class\n",
      "Created Instance\n",
      "Splitting Data\n",
      "Text_splitter Created\n",
      "DataBase Searched\n",
      "Text Splitted\n",
      "Performing AI\n",
      "As of today's close, the NIFTY NEXT 50 index presents a mixed picture. Technically, Nifty has been consolidating within a 24,650–25,050 range, indicating a consolidation phase amidst high volatility. Despite this, it has defended key support zones and remains above its 20-day EMA, suggesting a broader bullish undertone. The daily RSI has tilted downward, while the MACD (20) is 52.48 and the ADX (14) is 11.49.\n",
      "\n",
      "Options data reveals heavy build-up in 25,000 and 25,500 Calls, marking stiff resistance zones. The 24,500 Put holds the highest open interest, with 24,000 as a secondary support. A move above 25,000 could trigger a short-covering rally towards 25,500.\n",
      "\n",
      "The market is likely to consolidate around current levels. While the long-term structural growth drivers remain intact, focus should be on specific themes and stock-level opportunities, with caution due to recent breakouts lacking follow-up buying. As long as Nifty remains above the critical 24,500 zone and key moving averages, bulls remain in charge, but a breakout beyond the 24,650-25,050 range is needed to unlock momentum.\n"
     ]
    }
   ],
   "source": [
    "print(\"Going into Class\")\n",
    "Para = Para_Processing()\n",
    "print(\"Created Instance\")\n",
    "print(\"Splitting Data\")\n",
    "Para.splitter_embedding()\n",
    "print(\"Performing AI\")\n",
    "Para.interaction()"
   ]
  },
  {
   "cell_type": "code",
   "execution_count": null,
   "id": "91ca51b5",
   "metadata": {},
   "outputs": [],
   "source": []
  }
 ],
 "metadata": {
  "kernelspec": {
   "display_name": "Python 3",
   "language": "python",
   "name": "python3"
  },
  "language_info": {
   "codemirror_mode": {
    "name": "ipython",
    "version": 3
   },
   "file_extension": ".py",
   "mimetype": "text/x-python",
   "name": "python",
   "nbconvert_exporter": "python",
   "pygments_lexer": "ipython3",
   "version": "3.13.1"
  }
 },
 "nbformat": 4,
 "nbformat_minor": 5
}
